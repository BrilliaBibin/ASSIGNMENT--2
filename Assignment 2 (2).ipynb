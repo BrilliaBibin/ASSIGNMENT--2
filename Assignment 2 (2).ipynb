{
  "nbformat": 4,
  "nbformat_minor": 0,
  "metadata": {
    "colab": {
      "provenance": [],
      "collapsed_sections": []
    },
    "kernelspec": {
      "name": "python3",
      "display_name": "Python 3"
    },
    "language_info": {
      "name": "python"
    }
  },
  "cells": [
    {
      "cell_type": "markdown",
      "source": [
        "1.What are the two values of the Boolean data type? How do you write them?\n",
        "\n",
        "      The two values of the boolean data types are 1 and 0 and can be written as\n",
        "          1. True \n",
        "          2. False \n",
        "\n",
        "The output <class ‘bool’> indicates the variable is a boolean data type.It can be written as using T and F, with the rest of the word in lowercase."
      ],
      "metadata": {
        "id": "qtUuza3e55Up"
      }
    },
    {
      "cell_type": "code",
      "source": [
        "a = True\n",
        "print(type(a))\n",
        "b = False\n",
        "print(type(b))"
      ],
      "metadata": {
        "colab": {
          "base_uri": "https://localhost:8080/"
        },
        "id": "B3xrZ3YP8JgA",
        "outputId": "55408ef6-0459-48e1-eb75-fd7b9413b414"
      },
      "execution_count": 4,
      "outputs": [
        {
          "output_type": "stream",
          "name": "stdout",
          "text": [
            "<class 'bool'>\n",
            "<class 'bool'>\n"
          ]
        }
      ]
    },
    {
      "cell_type": "markdown",
      "source": [
        "2.What are the three different types of Boolean operators?\n",
        "\n",
        "        The three different types of boolean operators are \n",
        "            1. AND\n",
        "            2. OR\n",
        "            3. NOT\n",
        "\n",
        "---\n",
        "\n"
      ],
      "metadata": {
        "id": "jO-hUTOW6gbe"
      }
    },
    {
      "cell_type": "markdown",
      "source": [
        "3. Make a list of each Boolean operator&#39;s truth tables (i.e. every possible combination of Boolean\n",
        "values for the operator and what it evaluate ).\n",
        "\n",
        "AND OPERATOR\n",
        "\n",
        "True and True = True\n",
        "True and False = False\n",
        "False and True = False\n",
        "False and False = False\n",
        "\n",
        "OR OPERATOR\n",
        "\n",
        "True or True = True\n",
        "True or False = True\n",
        "False or True = True\n",
        "False or False = False\n",
        "\n",
        "NOT OPERATOR\n",
        "\n",
        "not(True) = False\n",
        "not(False) = True"
      ],
      "metadata": {
        "id": "LoPFX3i57o_V"
      }
    },
    {
      "cell_type": "code",
      "source": [
        "##AND OPERATOR\n",
        "a = 30\n",
        "\n",
        "b = 45\n",
        "\n",
        "if(a > 30 and b == 45):\n",
        "\n",
        "   print(\"True\")\n",
        "\n",
        "else:\n",
        "\n",
        "   print(\"False\")\n"
      ],
      "metadata": {
        "colab": {
          "base_uri": "https://localhost:8080/"
        },
        "id": "wQ5vc5QI-OFp",
        "outputId": "31914c71-caa5-47c7-9ec4-46920735e96c"
      },
      "execution_count": 5,
      "outputs": [
        {
          "output_type": "stream",
          "name": "stdout",
          "text": [
            "False\n"
          ]
        }
      ]
    },
    {
      "cell_type": "code",
      "source": [
        "##OR OPERATOR\n",
        "a = 25\n",
        "\n",
        "b = 30\n",
        "\n",
        "if(a > 30 or b < 45):\n",
        "\n",
        "    print(\"True\")\n",
        "\n",
        "else:\n",
        "\n",
        "    print(\"False\")"
      ],
      "metadata": {
        "colab": {
          "base_uri": "https://localhost:8080/"
        },
        "id": "YYFZ7OY_-3KN",
        "outputId": "e52fe040-9ed4-4dec-9d84-006ce02bb1ec"
      },
      "execution_count": 6,
      "outputs": [
        {
          "output_type": "stream",
          "name": "stdout",
          "text": [
            "True\n"
          ]
        }
      ]
    },
    {
      "cell_type": "code",
      "source": [
        "##NOT OPERATOR \n",
        "a = 2\n",
        "\n",
        "b = 2\n",
        "\n",
        "if(not(a == b)):\n",
        "  print(\"If Executed\")\n",
        "\n",
        "else:\n",
        "  print(\"Else Executed\")"
      ],
      "metadata": {
        "colab": {
          "base_uri": "https://localhost:8080/"
        },
        "id": "3GpClGtJ_j0a",
        "outputId": "6c0ca369-9236-4a06-e88c-c8e1b9811641"
      },
      "execution_count": 7,
      "outputs": [
        {
          "output_type": "stream",
          "name": "stdout",
          "text": [
            "Else Executed\n"
          ]
        }
      ]
    },
    {
      "cell_type": "markdown",
      "source": [
        "4. What are the values of the following expressions?\n",
        "(5 > 4) and (3 == 5)\n",
        "not (5 > 4)\n",
        "(5 > 4) or (3 == 5)\n",
        "not ((5 > 4) or (3 == 5))\n",
        "(True and True) and (True == False)\n",
        "(not False) or (not True)\n",
        "\n",
        "Answer:\n",
        " False\n",
        " False\n",
        " True\n",
        " False\n",
        " False\n",
        " True"
      ],
      "metadata": {
        "id": "s77ToGIE5xPf"
      }
    },
    {
      "cell_type": "markdown",
      "source": [
        "5.What are the six comparison operators?\n",
        "    \n",
        "    The six comparison operators are\n",
        "       1. >\n",
        "       2. <\n",
        "       3. >=\n",
        "       4. <=\n",
        "       5. ==\n",
        "       6. !=\n"
      ],
      "metadata": {
        "id": "_QFx9e-7CNRg"
      }
    },
    {
      "cell_type": "markdown",
      "source": [
        "6. How do you tell the difference between the equal to and assignment operators?Describe a condition and when you would use one.\n",
        "\n",
        "The “=” is an assignment operator is used to assign the value on the right to the variable on the left.\n",
        "\n",
        "For example:\n",
        "\n",
        "a = 10;\n",
        "b = 20;\n",
        "ch = 'y';\n",
        "\n",
        "The ‘==’ operator checks whether the two given operands are equal or not. If so, it returns true. Otherwise it returns false.\n",
        "For example:\n",
        "\n",
        "5==5\n",
        "\n",
        "This will return true. A condition is an expression used in a flow control statement that evaluates to a boolean value. ie.,1-True and 0-False."
      ],
      "metadata": {
        "id": "K4OShGfeDmU_"
      }
    },
    {
      "cell_type": "markdown",
      "source": [
        "7. Identify the three blocks in this code:\n",
        "spam = 0\n",
        "if spam == 10:\n",
        "print('eggs')\n",
        "if spam > 5:\n",
        "print('bacon')\n",
        "else:\n",
        "print('ham')\n",
        "print('spam')\n",
        "print('spam')\n",
        "\n",
        "Answer:\n",
        "\n",
        "spam = 0                       Ans: Value Assignment\n",
        "if spam == 10:\n",
        "print('eggs')\n",
        "\n",
        "if spam > 5:                   Ans: If condition\n",
        "\n",
        "print('bacon')\n",
        "\n",
        "else:                          Ans: else block\n",
        "\n",
        "print('ham')\n",
        "\n",
        "print('spam')\n",
        "\n",
        "print('spam')\n",
        "      "
      ],
      "metadata": {
        "id": "10Y7c3wDLj-L"
      }
    },
    {
      "cell_type": "markdown",
      "source": [
        "8. Write code that prints Hello if 1 is stored in spam, prints Howdy if 2 is stored in spam, and prints\n",
        "Greetings! if anything else is stored in spam.\n",
        "\n",
        "The code:\n",
        "\n",
        "if spam == 1: print('Hello')\n",
        "\n",
        "elif spam == 2: print('Howdy')\n",
        "\n",
        "else: print('Greetings!')"
      ],
      "metadata": {
        "id": "2NzfxomANDdE"
      }
    },
    {
      "cell_type": "code",
      "source": [
        "print(\"Input value of spam\")\n",
        "spam = int(input())\n",
        "\n",
        "if spam == 1:\n",
        "    print('Hello')\n",
        "elif spam == 2:\n",
        "    print('Howdy')\n",
        "else:\n",
        "    print('Greetings!')"
      ],
      "metadata": {
        "colab": {
          "base_uri": "https://localhost:8080/"
        },
        "id": "YN6YIvFi2CpH",
        "outputId": "0fd1d230-5e5b-4ad0-ee02-863047fa4ba3"
      },
      "execution_count": 40,
      "outputs": [
        {
          "output_type": "stream",
          "name": "stdout",
          "text": [
            "Input value of spam\n",
            "3\n",
            "Greetings!\n"
          ]
        }
      ]
    },
    {
      "cell_type": "markdown",
      "source": [
        "9.If your programme is stuck in an endless loop, what keys you’ll press?\n",
        "\n",
        "         If your programme is stuck in an endless loop press CTRL+C to stop a program in infinite loop"
      ],
      "metadata": {
        "id": "bG7kLl8-O-Jv"
      }
    },
    {
      "cell_type": "markdown",
      "source": [
        "10. How can you tell the difference between break and continue?\n",
        "\n",
        "The main difference between both the statements is that when break keyword comes, it terminates the execution of the current loop and passes the control over the next loop or main body, whereas when continue keyword is encountered, it skips the current iteration and executes the very next iteration in the loop. \n",
        "In simple words break statement leaves a loop, whereas the continue statement jumps to the next iteration. \n"
      ],
      "metadata": {
        "id": "VYYyBtWnP6GG"
      }
    },
    {
      "cell_type": "code",
      "source": [
        "nums = [1, 2, 3, 4, 5]\n",
        "\n",
        "print(\"----Using \\\"break\\\"-------\")\n",
        "for n in nums:\n",
        "    if n == 3:\n",
        "        break\n",
        "    print(n)\n",
        "\n",
        "print(\"----Using \\\"continue\\\"-------\")\n",
        "for n in nums:\n",
        "    if n == 3:\n",
        "        continue\n",
        "    print(n)"
      ],
      "metadata": {
        "colab": {
          "base_uri": "https://localhost:8080/"
        },
        "id": "WsbxCPclSjcO",
        "outputId": "77cd1e36-8d7e-4032-e7e0-00a1da075b5b"
      },
      "execution_count": 14,
      "outputs": [
        {
          "output_type": "stream",
          "name": "stdout",
          "text": [
            "----Using \"break\"-------\n",
            "1\n",
            "2\n",
            "----Using \"continue\"-------\n",
            "1\n",
            "2\n",
            "4\n",
            "5\n"
          ]
        }
      ]
    },
    {
      "cell_type": "markdown",
      "source": [
        "11. In a for loop, what is the difference between range(10), range(0, 10), and range(0, 10, 1)?\n",
        "\n",
        "No difference. Range will take value for 0 to 9.\n",
        "\n",
        " syntax : range(start,stop,step)\n",
        "**range(10):**\n",
        "When the user call range() with one argument, the user will get a series of numbers that starts at 0 and includes every whole number up to, but not including, the number that the user has provided as the stop."
      ],
      "metadata": {
        "id": "dM_0IV9fTJU2"
      }
    },
    {
      "cell_type": "code",
      "source": [
        "for i in range(10):\n",
        "    print(i, end=\" \")\n",
        "print()"
      ],
      "metadata": {
        "colab": {
          "base_uri": "https://localhost:8080/"
        },
        "id": "YnkSuxd5l26n",
        "outputId": "3164414d-b32f-4364-c9e1-76a3899a8926"
      },
      "execution_count": 22,
      "outputs": [
        {
          "output_type": "stream",
          "name": "stdout",
          "text": [
            "0 1 2 3 4 5 6 7 8 9 \n"
          ]
        }
      ]
    },
    {
      "cell_type": "markdown",
      "source": [
        "**range(0,10)**\n",
        "  When the user call range() with two arguments, the user gets to decide not only where the series of numbers stops but also where it starts, so the user don’t have to start at 0 all the time. Users can use range() to generate a series of numbers from X to Y using range(X, Y)."
      ],
      "metadata": {
        "id": "wrxfTA1GniF5"
      }
    },
    {
      "cell_type": "code",
      "source": [
        "for i in range(0,10):\n",
        "    print(i, end=\" \")\n"
      ],
      "metadata": {
        "colab": {
          "base_uri": "https://localhost:8080/"
        },
        "id": "bkXUGI7xmKOq",
        "outputId": "85806f92-775b-4088-b83c-887cf9e0bea7"
      },
      "execution_count": 24,
      "outputs": [
        {
          "output_type": "stream",
          "name": "stdout",
          "text": [
            "0 1 2 3 4 5 6 7 8 9 "
          ]
        }
      ]
    },
    {
      "cell_type": "markdown",
      "source": [
        "**range(0,10,1)**\n",
        "\n",
        "    When the user call range() with three arguments, the user can choose not only where the series of numbers will start and stop, but also how big the difference will be between one number and the next"
      ],
      "metadata": {
        "id": "5Op6uDO2n1mk"
      }
    },
    {
      "cell_type": "code",
      "source": [
        "for i in range(0, 10, 1):\n",
        "    print(i, end=\" \")\n",
        "print()"
      ],
      "metadata": {
        "colab": {
          "base_uri": "https://localhost:8080/"
        },
        "id": "KCSz6JnYmlDf",
        "outputId": "7bcd0060-65fd-4bbc-ea3f-0a0c471c3d93"
      },
      "execution_count": 25,
      "outputs": [
        {
          "output_type": "stream",
          "name": "stdout",
          "text": [
            "0 1 2 3 4 5 6 7 8 9 \n"
          ]
        }
      ]
    },
    {
      "cell_type": "markdown",
      "source": [
        "12. Write a short program that prints the numbers 1 to 10 using a for loop. Then write an equivalent\n",
        "program that prints the numbers 1 to 10 using a while loop."
      ],
      "metadata": {
        "id": "MQ6l6UN-oz8t"
      }
    },
    {
      "cell_type": "code",
      "source": [
        "## for loop\n",
        "for i in range(1, 11):\n",
        "    print(i)"
      ],
      "metadata": {
        "colab": {
          "base_uri": "https://localhost:8080/"
        },
        "id": "cLLi-G3_pSBh",
        "outputId": "746d841a-8236-437e-89a3-f8732cd17793"
      },
      "execution_count": 27,
      "outputs": [
        {
          "output_type": "stream",
          "name": "stdout",
          "text": [
            "1\n",
            "2\n",
            "3\n",
            "4\n",
            "5\n",
            "6\n",
            "7\n",
            "8\n",
            "9\n",
            "10\n"
          ]
        }
      ]
    },
    {
      "cell_type": "code",
      "source": [
        "##while loop\n",
        "i = 1\n",
        "while(i<=10):\n",
        "    print(i)\n",
        "    i += 1"
      ],
      "metadata": {
        "colab": {
          "base_uri": "https://localhost:8080/"
        },
        "id": "Ta00i39spS7u",
        "outputId": "c8e00d5a-4912-4180-df0e-abe98faa9104"
      },
      "execution_count": 26,
      "outputs": [
        {
          "output_type": "stream",
          "name": "stdout",
          "text": [
            "1\n",
            "2\n",
            "3\n",
            "4\n",
            "5\n",
            "6\n",
            "7\n",
            "8\n",
            "9\n",
            "10\n"
          ]
        }
      ]
    },
    {
      "cell_type": "markdown",
      "source": [
        "13. If you had a function named bacon() inside a module named spam, how would you call it after\n",
        "importing spam?\n",
        "\n",
        "This function can be called with spam.bacon()"
      ],
      "metadata": {
        "id": "UdfujZSJplcG"
      }
    }
  ]
}